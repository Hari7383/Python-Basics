{
  "nbformat": 4,
  "nbformat_minor": 0,
  "metadata": {
    "colab": {
      "provenance": []
    },
    "kernelspec": {
      "name": "python3",
      "display_name": "Python 3"
    },
    "language_info": {
      "name": "python"
    }
  },
  "cells": [
    {
      "cell_type": "code",
      "source": [
        "n = int(input())\n",
        "i=2\n",
        "a = 0\n",
        "b = 1\n",
        "if n==1:\n",
        "  print(a)\n",
        "if n==2:\n",
        "  print(a,b)\n",
        "else:\n",
        "  print(a,b,end=\" \")\n",
        "  while(i<n):\n",
        "    print(a+b,end=\" \")\n",
        "    a,b=b,a+b\n",
        "    i+=1"
      ],
      "metadata": {
        "colab": {
          "base_uri": "https://localhost:8080/"
        },
        "id": "es63LIhldhnI",
        "outputId": "add1b21f-6836-43f2-aa4e-4e2f82c2d904"
      },
      "execution_count": null,
      "outputs": [
        {
          "output_type": "stream",
          "name": "stdout",
          "text": [
            "5\n",
            "0 1 1 2 3 "
          ]
        }
      ]
    },
    {
      "cell_type": "code",
      "source": [
        "n = int(input())\n",
        "a = 0\n",
        "b = 1\n",
        "c=1\n",
        "while c<=n:\n",
        "  print(a+b,end=\" \")\n",
        "  a,b=b,a+b\n",
        "  c+=1\n",
        "print(a+b)"
      ],
      "metadata": {
        "colab": {
          "base_uri": "https://localhost:8080/"
        },
        "id": "j7ysG_LFlzJl",
        "outputId": "eed25f14-e820-4bd2-e645-e77580340da2"
      },
      "execution_count": null,
      "outputs": [
        {
          "output_type": "stream",
          "name": "stdout",
          "text": [
            "5\n",
            "1 2 3 5 8 13\n"
          ]
        }
      ]
    }
  ]
}