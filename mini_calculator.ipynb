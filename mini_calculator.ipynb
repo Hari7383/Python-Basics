{
  "nbformat": 4,
  "nbformat_minor": 0,
  "metadata": {
    "colab": {
      "provenance": []
    },
    "kernelspec": {
      "name": "python3",
      "display_name": "Python 3"
    },
    "language_info": {
      "name": "python"
    }
  },
  "cells": [
    {
      "cell_type": "code",
      "execution_count": null,
      "metadata": {
        "colab": {
          "base_uri": "https://localhost:8080/"
        },
        "id": "Sd-36-C89S-M",
        "outputId": "af74c152-cbc2-49a5-990b-8a6fbb1b23d9"
      },
      "outputs": [
        {
          "output_type": "stream",
          "name": "stdout",
          "text": [
            "15\n",
            "3\n",
            "add=1/sub=2/div=3/mul=4:3\n",
            "5.0\n"
          ]
        }
      ],
      "source": [
        "#make mini calculator\n",
        "a=int(input()) #get values from user\n",
        "b=int(input())\n",
        "o=int(input(\"add=1/sub=2/div=3/mul=4:\")) #o for operations\n",
        "if(o==1):\n",
        "  print(a+b)\n",
        "elif(o==2):\n",
        "  print(a-b)\n",
        "elif(o==3):\n",
        "  print(a/b)\n",
        "elif(o==4):\n",
        "  print(a*b)\n",
        "else:\n",
        "  print(\"invalide operator\")"
      ]
    }
  ]
}