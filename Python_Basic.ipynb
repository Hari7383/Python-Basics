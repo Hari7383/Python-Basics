{
  "nbformat": 4,
  "nbformat_minor": 0,
  "metadata": {
    "colab": {
      "provenance": []
    },
    "kernelspec": {
      "name": "python3",
      "display_name": "Python 3"
    },
    "language_info": {
      "name": "python"
    }
  },
  "cells": [
    {
      "cell_type": "code",
      "execution_count": null,
      "metadata": {
        "colab": {
          "base_uri": "https://localhost:8080/"
        },
        "id": "2o45E4b40usH",
        "outputId": "4652436e-dd3c-473c-b9b3-1381864aaab6"
      },
      "outputs": [
        {
          "output_type": "stream",
          "name": "stdout",
          "text": [
            "1020\n",
            "30\n"
          ]
        }
      ],
      "source": [
        "#casting\n",
        "a=\"10\"\n",
        "b=\"20\"\n",
        "c=a+b\n",
        "print(c)\n",
        "\n",
        "#solution\n",
        "d=int(\"10\")\n",
        "e=int(\"20\")\n",
        "f=d+e\n",
        "print(f)\n"
      ]
    },
    {
      "cell_type": "code",
      "source": [
        "#How to get value from user\n",
        "a=input()\n",
        "b=input()\n",
        "c=a+b\n",
        "print(c)"
      ],
      "metadata": {
        "colab": {
          "base_uri": "https://localhost:8080/"
        },
        "id": "pdzTxX5c2t4Y",
        "outputId": "ba271af3-94df-43fa-ef0a-e9f5a5bf4607"
      },
      "execution_count": null,
      "outputs": [
        {
          "output_type": "stream",
          "name": "stdout",
          "text": [
            "10\n",
            "23\n",
            "1023\n"
          ]
        }
      ]
    },
    {
      "cell_type": "code",
      "source": [
        "a=int(input())\n",
        "b=int(input())\n",
        "c=a+b\n",
        "print(c)"
      ],
      "metadata": {
        "colab": {
          "base_uri": "https://localhost:8080/"
        },
        "id": "LrwBd8dm3SP1",
        "outputId": "d5fe01d5-ba99-4408-db2a-222c93775e0f"
      },
      "execution_count": null,
      "outputs": [
        {
          "output_type": "stream",
          "name": "stdout",
          "text": [
            "10\n",
            "20\n",
            "30\n"
          ]
        }
      ]
    }
  ]
}