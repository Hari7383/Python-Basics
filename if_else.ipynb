{
  "nbformat": 4,
  "nbformat_minor": 0,
  "metadata": {
    "colab": {
      "provenance": []
    },
    "kernelspec": {
      "name": "python3",
      "display_name": "Python 3"
    },
    "language_info": {
      "name": "python"
    }
  },
  "cells": [
    {
      "cell_type": "code",
      "execution_count": null,
      "metadata": {
        "id": "bmVqPLUm74SJ"
      },
      "outputs": [],
      "source": [
        "#if else\n",
        "if (True): #boolen value True=1\n",
        "  print(\"yes\")\n",
        "else:\n",
        "  print(\"no\")"
      ]
    },
    {
      "cell_type": "code",
      "source": [
        "if (False): #boolen value False=0\n",
        "  print(\"yes\")\n",
        "else:\n",
        "  print(\"no\")"
      ],
      "metadata": {
        "id": "kdwe2NYF8CTC"
      },
      "execution_count": null,
      "outputs": []
    },
    {
      "cell_type": "code",
      "source": [
        "#camparison operator useing if else\n",
        "a=10\n",
        "if(a==10):\n",
        "  print(\"a is equal to 10\")\n",
        "else:\n",
        "  print(\"a is not equal to 10\")"
      ],
      "metadata": {
        "id": "mP_TX2Hv8JLQ"
      },
      "execution_count": null,
      "outputs": []
    },
    {
      "cell_type": "code",
      "source": [
        "#use elif and \"and\" operator\n",
        "#student gread system\n",
        "#35>score poor student\n",
        "#35<score and 70>score avg student\n",
        "#35<score and 70<score and score<=100 good student\n",
        "score=int(input(\"put your score=\"))\n",
        "if(score<=35):\n",
        "  print(\"poor student\")\n",
        "elif(score>35 and score<70):\n",
        "  print(\"avg student\")\n",
        "elif(score>35 and score>=70 and score<=100):\n",
        "  print(\"good student\")\n",
        "else:\n",
        "  print(\"invalide score\")"
      ],
      "metadata": {
        "id": "9LUeAwT18KJ3"
      },
      "execution_count": null,
      "outputs": []
    },
    {
      "cell_type": "code",
      "source": [
        "#score system\n",
        "#score>=70 and score<=100 \"Get student name,department,and location\"\n",
        "score=int(input(\"put your score=\"))\n",
        "if(score>=70 and score<=100):\n",
        "  print(\"you are eligible\")\n",
        "  name=input(\"Enter your Name:\")\n",
        "  dept=input(\"Enter your Department:\")\n",
        "  location=input(\"Enter your Location:\")\n",
        "  print(name,\"\\n\",dept,\"\\n\",location)\n",
        "else:\n",
        "  print(\"you are not eligible\")"
      ],
      "metadata": {
        "colab": {
          "base_uri": "https://localhost:8080/"
        },
        "id": "W6H3t1hxBa7t",
        "outputId": "1c18188c-0cf0-4f4d-97f6-55f5505d7a51"
      },
      "execution_count": null,
      "outputs": [
        {
          "output_type": "stream",
          "name": "stdout",
          "text": [
            "put your score=89\n",
            "you are eligible\n",
            "Enter your Name:hari\n",
            "Enter your Department:cdbs\n",
            "Enter your Location:trichy\n",
            "hari \n",
            " cdbs \n",
            " trichy\n"
          ]
        }
      ]
    },
    {
      "cell_type": "code",
      "source": [
        "#loan eligiblity checking using \"or\" Operator\n",
        "#salary>20000 or age<=25 \"eligible for loan\"\n",
        "a=int(input(\"Enter your Age:\")) #a for Age\n",
        "s=int(input(\"Enter your Monthly Salary:\")) #s for Salary\n",
        "if(s>=20000 or a>=25):\n",
        "  print(\"you are eligible for loan\")\n",
        "else:\n",
        "  print(\"you are not eligible for loan\")"
      ],
      "metadata": {
        "colab": {
          "base_uri": "https://localhost:8080/"
        },
        "id": "dkcHHpo1T6_m",
        "outputId": "a805d2dc-da16-41ad-85eb-5bb465d63bcd"
      },
      "execution_count": null,
      "outputs": [
        {
          "output_type": "stream",
          "name": "stdout",
          "text": [
            "Enter your Age:29\n",
            "Enter your Monthly Salary:140000\n",
            "you are eligible for loan\n"
          ]
        }
      ]
    }
  ]
}